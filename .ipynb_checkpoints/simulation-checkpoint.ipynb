{
 "cells": [
  {
   "cell_type": "code",
   "execution_count": 1,
   "id": "15af6e0f-d8e1-4917-9831-9600ab74f965",
   "metadata": {},
   "outputs": [
    {
     "name": "stderr",
     "output_type": "stream",
     "text": [
      "┌ Info: Precompiling DataFrames [a93c6f00-e57d-5684-b7b6-d8193f3e46c0]\n",
      "└ @ Base loading.jl:1342\n",
      "\u001b[33m\u001b[1m┌ \u001b[22m\u001b[39m\u001b[33m\u001b[1mWarning: \u001b[22m\u001b[39mPackage DataStructures does not have Compat in its dependencies:\n",
      "\u001b[33m\u001b[1m│ \u001b[22m\u001b[39m- If you have DataStructures checked out for development and have\n",
      "\u001b[33m\u001b[1m│ \u001b[22m\u001b[39m  added Compat as a dependency but haven't updated your primary\n",
      "\u001b[33m\u001b[1m│ \u001b[22m\u001b[39m  environment's manifest file, try `Pkg.resolve()`.\n",
      "\u001b[33m\u001b[1m│ \u001b[22m\u001b[39m- Otherwise you may need to report an issue with DataStructures\n",
      "\u001b[33m\u001b[1m└ \u001b[22m\u001b[39mLoading Compat into DataStructures from project dependency, future warnings for DataStructures are suppressed.\n",
      "\u001b[33m\u001b[1m┌ \u001b[22m\u001b[39m\u001b[33m\u001b[1mWarning: \u001b[22m\u001b[39mThe call to compilecache failed to create a usable precompiled cache file for SortingAlgorithms [a2af1166-a08f-5f64-846c-94a0d3cef48c]\n",
      "\u001b[33m\u001b[1m│ \u001b[22m\u001b[39m  exception = Required dependency DataStructures [864edb3b-99cc-5e75-8d2d-829cb0a9cfe8] failed to load from a cache file.\n",
      "\u001b[33m\u001b[1m└ \u001b[22m\u001b[39m\u001b[90m@ Base loading.jl:1055\u001b[39m\n",
      "\u001b[33m\u001b[1m┌ \u001b[22m\u001b[39m\u001b[33m\u001b[1mWarning: \u001b[22m\u001b[39mPackage DataStructures does not have Compat in its dependencies:\n",
      "\u001b[33m\u001b[1m│ \u001b[22m\u001b[39m- If you have DataStructures checked out for development and have\n",
      "\u001b[33m\u001b[1m│ \u001b[22m\u001b[39m  added Compat as a dependency but haven't updated your primary\n",
      "\u001b[33m\u001b[1m│ \u001b[22m\u001b[39m  environment's manifest file, try `Pkg.resolve()`.\n",
      "\u001b[33m\u001b[1m│ \u001b[22m\u001b[39m- Otherwise you may need to report an issue with DataStructures\n",
      "\u001b[33m\u001b[1m└ \u001b[22m\u001b[39mLoading Compat into DataStructures from project dependency, future warnings for DataStructures are suppressed.\n",
      "┌ Warning: The call to compilecache failed to create a usable precompiled cache file for DataFrames [a93c6f00-e57d-5684-b7b6-d8193f3e46c0]\n",
      "│   exception = ErrorException(\"Required dependency DataStructures [864edb3b-99cc-5e75-8d2d-829cb0a9cfe8] failed to load from a cache file.\")\n",
      "└ @ Base loading.jl:1055\n",
      "┌ Info: Precompiling SortingAlgorithms [a2af1166-a08f-5f64-846c-94a0d3cef48c]\n",
      "└ @ Base loading.jl:1342\n",
      "\u001b[33m\u001b[1m┌ \u001b[22m\u001b[39m\u001b[33m\u001b[1mWarning: \u001b[22m\u001b[39mPackage DataStructures does not have Compat in its dependencies:\n",
      "\u001b[33m\u001b[1m│ \u001b[22m\u001b[39m- If you have DataStructures checked out for development and have\n",
      "\u001b[33m\u001b[1m│ \u001b[22m\u001b[39m  added Compat as a dependency but haven't updated your primary\n",
      "\u001b[33m\u001b[1m│ \u001b[22m\u001b[39m  environment's manifest file, try `Pkg.resolve()`.\n",
      "\u001b[33m\u001b[1m│ \u001b[22m\u001b[39m- Otherwise you may need to report an issue with DataStructures\n",
      "\u001b[33m\u001b[1m└ \u001b[22m\u001b[39mLoading Compat into DataStructures from project dependency, future warnings for DataStructures are suppressed.\n",
      "┌ Warning: The call to compilecache failed to create a usable precompiled cache file for SortingAlgorithms [a2af1166-a08f-5f64-846c-94a0d3cef48c]\n",
      "│   exception = ErrorException(\"Required dependency DataStructures [864edb3b-99cc-5e75-8d2d-829cb0a9cfe8] failed to load from a cache file.\")\n",
      "└ @ Base loading.jl:1055\n",
      "┌ Info: Precompiling DataStructures [864edb3b-99cc-5e75-8d2d-829cb0a9cfe8]\n",
      "└ @ Base loading.jl:1342\n",
      "\u001b[33m\u001b[1m┌ \u001b[22m\u001b[39m\u001b[33m\u001b[1mWarning: \u001b[22m\u001b[39mPackage DataStructures does not have Compat in its dependencies:\n",
      "\u001b[33m\u001b[1m│ \u001b[22m\u001b[39m- If you have DataStructures checked out for development and have\n",
      "\u001b[33m\u001b[1m│ \u001b[22m\u001b[39m  added Compat as a dependency but haven't updated your primary\n",
      "\u001b[33m\u001b[1m│ \u001b[22m\u001b[39m  environment's manifest file, try `Pkg.resolve()`.\n",
      "\u001b[33m\u001b[1m│ \u001b[22m\u001b[39m- Otherwise you may need to report an issue with DataStructures\n",
      "\u001b[33m\u001b[1m└ \u001b[22m\u001b[39mLoading Compat into DataStructures from project dependency, future warnings for DataStructures are suppressed.\n",
      "┌ Info: Precompiling Distributions [31c24e10-a181-5473-b8eb-7969acd0382f]\n",
      "└ @ Base loading.jl:1342\n",
      "\u001b[33m\u001b[1m┌ \u001b[22m\u001b[39m\u001b[33m\u001b[1mWarning: \u001b[22m\u001b[39mModule SortingAlgorithms with build ID 786635092450146 is missing from the cache.\n",
      "\u001b[33m\u001b[1m│ \u001b[22m\u001b[39mThis may mean SortingAlgorithms [a2af1166-a08f-5f64-846c-94a0d3cef48c] does not support precompilation but is imported by a module that does.\n",
      "\u001b[33m\u001b[1m└ \u001b[22m\u001b[39m\u001b[90m@ Base loading.jl:1030\u001b[39m\n",
      "\u001b[33m\u001b[1m┌ \u001b[22m\u001b[39m\u001b[33m\u001b[1mWarning: \u001b[22m\u001b[39mModule SortingAlgorithms with build ID 786635092450146 is missing from the cache.\n",
      "\u001b[33m\u001b[1m│ \u001b[22m\u001b[39mThis may mean SortingAlgorithms [a2af1166-a08f-5f64-846c-94a0d3cef48c] does not support precompilation but is imported by a module that does.\n",
      "\u001b[33m\u001b[1m└ \u001b[22m\u001b[39m\u001b[90m@ Base loading.jl:1030\u001b[39m\n",
      "┌ Info: Skipping precompilation since __precompile__(false). Importing Distributions [31c24e10-a181-5473-b8eb-7969acd0382f].\n",
      "└ @ Base loading.jl:1047\n",
      "┌ Info: Precompiling StatsBase [2913bbd2-ae8a-5f71-8c99-4fb6c76f3a91]\n",
      "└ @ Base loading.jl:1342\n",
      "\u001b[33m\u001b[1m┌ \u001b[22m\u001b[39m\u001b[33m\u001b[1mWarning: \u001b[22m\u001b[39mModule SortingAlgorithms with build ID 786635092450146 is missing from the cache.\n",
      "\u001b[33m\u001b[1m│ \u001b[22m\u001b[39mThis may mean SortingAlgorithms [a2af1166-a08f-5f64-846c-94a0d3cef48c] does not support precompilation but is imported by a module that does.\n",
      "\u001b[33m\u001b[1m└ \u001b[22m\u001b[39m\u001b[90m@ Base loading.jl:1030\u001b[39m\n",
      "┌ Info: Skipping precompilation since __precompile__(false). Importing StatsBase [2913bbd2-ae8a-5f71-8c99-4fb6c76f3a91].\n",
      "└ @ Base loading.jl:1047\n",
      "┌ Info: Precompiling QuadGK [1fd47b50-473d-5c70-9696-f719f8f3bcdc]\n",
      "└ @ Base loading.jl:1342\n"
     ]
    }
   ],
   "source": [
    "using Pkg\n",
    "using CSV\n",
    "using DataFrames\n",
    "using Distributions\n",
    "using Random\n",
    "using StatsBase"
   ]
  },
  {
   "cell_type": "code",
   "execution_count": 2,
   "id": "42e486ca-2660-484d-b41c-b247bceaf624",
   "metadata": {},
   "outputs": [
    {
     "name": "stderr",
     "output_type": "stream",
     "text": [
      "┌ Warning: Pkg.installed() is deprecated\n",
      "└ @ Pkg C:\\buildbot\\worker\\package_win64\\build\\usr\\share\\julia\\stdlib\\v1.6\\Pkg\\src\\Pkg.jl:570\n"
     ]
    },
    {
     "data": {
      "text/plain": [
       "Dict{String, VersionNumber} with 7 entries:\n",
       "  \"CSV\"           => v\"0.9.11\"\n",
       "  \"IJulia\"        => v\"1.23.2\"\n",
       "  \"Distributions\" => v\"0.25.37\"\n",
       "  \"DataFrames\"    => v\"1.3.1\"\n",
       "  \"Chain\"         => v\"0.4.10\"\n",
       "  \"Plots\"         => v\"1.25.5\"\n",
       "  \"StatsPlots\"    => v\"0.14.30\""
      ]
     },
     "execution_count": 2,
     "metadata": {},
     "output_type": "execute_result"
    }
   ],
   "source": [
    "Pkg.installed()"
   ]
  },
  {
   "cell_type": "code",
   "execution_count": 27,
   "id": "825e19e1-8b14-473e-af07-ba4939eb62e5",
   "metadata": {},
   "outputs": [
    {
     "data": {
      "text/plain": [
       "5-element Vector{Float64}:\n",
       " 0.0\n",
       " 0.0\n",
       " 0.0\n",
       " 0.0\n",
       " 0.0"
      ]
     },
     "execution_count": 27,
     "metadata": {},
     "output_type": "execute_result"
    }
   ],
   "source": [
    "##Zmienne\n",
    "#Menu z cenami\n",
    "\n",
    "menu = Dict(\"BigMac\"=>20, \"Drwal\"=>30, \"McNuggets\"=>23, \"McChicken\" => 25, \"Wege\" => 18)\n",
    "\n",
    "#Produkty i ich data waznosci\n",
    "val = Dict(\"BigMac\"=>20, \"Drwal\"=>20, \"McNuggets\"=>15, \"McChicken\" => 25, \"Wege\" => 15)\n",
    "\n",
    "#Początkowy stan produktów\n",
    "#start = Dict(\"BigMac\"=>20, \"Drwal\"=>20, \"McNuggets\"=>20, \"McChicken\" => 20, \"Wege\" => 20)\n",
    "start = [1, 2, 1, 1, 0]\n",
    "unfulfilled = zeros(5)\n",
    "\n"
   ]
  },
  {
   "cell_type": "code",
   "execution_count": 4,
   "id": "4913f0d3",
   "metadata": {},
   "outputs": [
    {
     "data": {
      "text/plain": [
       "5-element Weights{Float64, Float64, Vector{Float64}}:\n",
       " 0.15\n",
       " 0.25\n",
       " 0.2\n",
       " 0.2\n",
       " 0.1"
      ]
     },
     "execution_count": 4,
     "metadata": {},
     "output_type": "execute_result"
    }
   ],
   "source": [
    "##Rozkłady \n",
    "#Ilość samochodów na minutę tworzymy rozkład zeby uzyc sample w funkcji\n",
    "cars = [1, 2, 3, 4, 5]\n",
    "prob = [0.15, 0.25, 0.2, 0.2, 0.1]\n",
    "w = Weights(prob)"
   ]
  },
  {
   "cell_type": "code",
   "execution_count": 7,
   "id": "3b2d2a60",
   "metadata": {},
   "outputs": [
    {
     "ename": "LoadError",
     "evalue": "syntax: incomplete: \"function\" at In[7]:4 requires end",
     "output_type": "error",
     "traceback": [
      "syntax: incomplete: \"function\" at In[7]:4 requires end",
      "",
      "Stacktrace:",
      " [1] top-level scope",
      "   @ In[7]:4",
      " [2] eval",
      "   @ .\\boot.jl:360 [inlined]",
      " [3] include_string(mapexpr::typeof(REPL.softscope), mod::Module, code::String, filename::String)",
      "   @ Base .\\loading.jl:1116"
     ]
    }
   ],
   "source": [
    "##Główna funkcja kroku\n",
    "#jeden krok = jedna minuta\n",
    "\n",
    "function OneStep()\n",
    "    #wylosować z rozkładu samochdów na minutę ile samochdów przyjedzie w tym kroku\n",
    "    cars_num = sample(cars, w)\n",
    "    #wylosować ilość osób w kazdym samochodzie, 1 samochod = jedna zmienna?\n",
    "    num_ppl = Dict(i => rand(1:cars_num) for i in 1:cars_num)\n",
    "    # wylosować zamówienia dla kazdego samochodu, zapisujemy je jako data DataFrame\n",
    "    #gdzie kolumny to produkty zamowione a rzedy to nr samochodu\n",
    "    orders = DataFrame(BigMac = zeros(cars_num), Drwal = zeros(cars_num),\n",
    "    McNuggets = zeros(cars_num), McChicken = zeros(cars_num), Wege = zeros(cars_num))\n",
    "    \n",
    "    #losujemy zamowienia dla kazdego samochodu\n",
    "    for i in 1:nrow(orders)\n",
    "        for j in 1:length(num_ppl)\n",
    "            prod = rand(1:ncol(orders))\n",
    "            orders[i, prod] += 1\n",
    "        end\n",
    "    end\n",
    "    \n",
    "    \n",
    "    \n"
   ]
  },
  {
   "cell_type": "code",
   "execution_count": 31,
   "id": "bc7248db",
   "metadata": {},
   "outputs": [],
   "source": [
    "cars_num = sample(cars, w)\n",
    "    #wylosować ilość osób w kazdym samochodzie, 1 samochod = jedna zmienna?\n",
    "    num_ppl = Dict(i => rand(1:cars_num) for i in 1:cars_num)\n",
    "    # wylosować zamówienia dla kazdego samochodu, zapisujemy je jako data DataFrame\n",
    "    #gdzie kolumny to produkty zamowione a rzedy to nr samochodu\n",
    "    orders = DataFrame(BigMac = zeros(cars_num), Drwal = zeros(cars_num),\n",
    "    McNuggets = zeros(cars_num), McChicken = zeros(cars_num), Wege = zeros(cars_num))\n",
    "    \n",
    "    #losujemy zamowienia dla kazdego samochodu\n",
    "    for i in 1:nrow(orders)\n",
    "        for j in 1:length(num_ppl)\n",
    "            prod = rand(1:ncol(orders))\n",
    "            orders[i, prod] += 1\n",
    "        end\n",
    "    end\n",
    "\n",
    "    sum_order = sum.(eachcol(orders))\n",
    "    start -= sum_order\n",
    "    end_inv = start\n",
    "\n",
    "for i in 1:length(end_inv)\n",
    "    if(end_inv[i] < 0)\n",
    "        unfulfilled[i] += end_inv[i]\n",
    "        end_inv[i] = 0\n",
    "    end\n",
    "end\n",
    "\n",
    "\n",
    "        \n",
    "    \n",
    "    \n",
    "\n"
   ]
  },
  {
   "cell_type": "code",
   "execution_count": 34,
   "id": "a4346b9e",
   "metadata": {},
   "outputs": [
    {
     "data": {
      "text/plain": [
       "5-element Vector{Float64}:\n",
       " 0.0\n",
       " 0.0\n",
       " 0.0\n",
       " 0.0\n",
       " 0.0"
      ]
     },
     "execution_count": 34,
     "metadata": {},
     "output_type": "execute_result"
    }
   ],
   "source": [
    "end_inv"
   ]
  },
  {
   "cell_type": "code",
   "execution_count": 33,
   "id": "d93b27f8",
   "metadata": {},
   "outputs": [
    {
     "data": {
      "text/plain": [
       "5-element Vector{Float64}:\n",
       " -5.0\n",
       " -3.0\n",
       " -2.0\n",
       " -1.0\n",
       " -1.0"
      ]
     },
     "execution_count": 33,
     "metadata": {},
     "output_type": "execute_result"
    }
   ],
   "source": [
    "unfulfilled"
   ]
  },
  {
   "cell_type": "code",
   "execution_count": null,
   "id": "e7a2c604",
   "metadata": {},
   "outputs": [],
   "source": []
  }
 ],
 "metadata": {
  "kernelspec": {
   "display_name": "Julia 1.6.3",
   "language": "julia",
   "name": "julia-1.6"
  },
  "language_info": {
   "file_extension": ".jl",
   "mimetype": "application/julia",
   "name": "julia",
   "version": "1.6.3"
  }
 },
 "nbformat": 4,
 "nbformat_minor": 5
}
