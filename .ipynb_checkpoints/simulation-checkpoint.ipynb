{
 "cells": [
  {
   "cell_type": "code",
   "execution_count": 9,
   "id": "15af6e0f-d8e1-4917-9831-9600ab74f965",
   "metadata": {},
   "outputs": [],
   "source": [
    "using Pkg\n",
    "using CSV\n",
    "using DataFrames\n",
    "using Distributions"
   ]
  },
  {
   "cell_type": "code",
   "execution_count": 8,
   "id": "42e486ca-2660-484d-b41c-b247bceaf624",
   "metadata": {},
   "outputs": [
    {
     "name": "stderr",
     "output_type": "stream",
     "text": [
      "┌ Warning: Pkg.installed() is deprecated\n",
      "└ @ Pkg C:\\buildbot\\worker\\package_win64\\build\\usr\\share\\julia\\stdlib\\v1.6\\Pkg\\src\\Pkg.jl:570\n"
     ]
    },
    {
     "data": {
      "text/plain": [
       "Dict{String, VersionNumber} with 7 entries:\n",
       "  \"CSV\"           => v\"0.9.11\"\n",
       "  \"IJulia\"        => v\"1.23.2\"\n",
       "  \"Chain\"         => v\"0.4.10\"\n",
       "  \"Plots\"         => v\"1.25.5\"\n",
       "  \"Distributions\" => v\"0.25.37\"\n",
       "  \"DataFrames\"    => v\"1.3.1\"\n",
       "  \"StatsPlots\"    => v\"0.14.30\""
      ]
     },
     "execution_count": 8,
     "metadata": {},
     "output_type": "execute_result"
    }
   ],
   "source": [
    "Pkg.installed()"
   ]
  }
 ],
 "metadata": {
  "kernelspec": {
   "display_name": "Julia 1.6.4",
   "language": "julia",
   "name": "julia-1.6"
  },
  "language_info": {
   "file_extension": ".jl",
   "mimetype": "application/julia",
   "name": "julia",
   "version": "1.6.4"
  }
 },
 "nbformat": 4,
 "nbformat_minor": 5
}
