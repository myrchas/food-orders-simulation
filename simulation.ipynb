{
 "cells": [
  {
   "cell_type": "code",
   "execution_count": 9,
   "id": "15af6e0f-d8e1-4917-9831-9600ab74f965",
   "metadata": {},
   "outputs": [],
   "source": [
    "using Pkg\n",
    "using CSV\n",
    "using DataFrames\n",
    "using Distributions\n",
    "using Random\n",
    "using StatsBase"
   ]
  },
  {
   "cell_type": "code",
   "execution_count": 8,
   "id": "42e486ca-2660-484d-b41c-b247bceaf624",
   "metadata": {},
   "outputs": [
    {
     "name": "stderr",
     "output_type": "stream",
     "text": [
      "┌ Warning: Pkg.installed() is deprecated\n",
      "└ @ Pkg C:\\buildbot\\worker\\package_win64\\build\\usr\\share\\julia\\stdlib\\v1.6\\Pkg\\src\\Pkg.jl:570\n"
     ]
    },
    {
     "data": {
      "text/plain": [
       "Dict{String, VersionNumber} with 7 entries:\n",
       "  \"CSV\"           => v\"0.9.11\"\n",
       "  \"IJulia\"        => v\"1.23.2\"\n",
       "  \"Chain\"         => v\"0.4.10\"\n",
       "  \"Plots\"         => v\"1.25.5\"\n",
       "  \"Distributions\" => v\"0.25.37\"\n",
       "  \"DataFrames\"    => v\"1.3.1\"\n",
       "  \"StatsPlots\"    => v\"0.14.30\""
      ]
     },
     "execution_count": 8,
     "metadata": {},
     "output_type": "execute_result"
    }
   ],
   "source": [
    "Pkg.installed()"
   ]
  },
  {
   "cell_type": "code",
   "execution_count": null,
   "id": "825e19e1-8b14-473e-af07-ba4939eb62e5",
   "metadata": {},
   "outputs": [],
   "source": [
    "##Zmienne\n",
    "#Menu z cenami\n",
    "\n",
    "menu = Dict(\"BigMac\"=>20, \"Drwal\"=>30, \"McNuggets\"=>23, \"McChicken\" => 25, \"Wege\" => 18)\n",
    "\n",
    "#Produkty i ich data waznosci\n",
    "val = Dict(\"BigMac\"=>20, \"Drwal\"=>20, \"McNuggets\"=>15, \"McChicken\" => 25, \"Wege\" => 15)\n",
    "\n",
    "#Początkowy stan produktów\n",
    "start = Dict(\"BigMac\"=>20, \"Drwal\"=>20, \"McNuggets\"=>20, \"McChicken\" => 20, \"Wege\" => 20)\n",
    "\n"
   ]
  },
  {
   "cell_type": "code",
   "execution_count": null,
   "id": "4913f0d3",
   "metadata": {},
   "outputs": [],
   "source": [
    "##Rozkłady \n",
    "#Ilość samochodów na minutę tworzymy rozkład zeby uzyc sample w funkcji\n",
    "cars = [1, 2, 3, 4, 5]\n",
    "prob = [0.15, 0.25, 0.2, 0.2, 0.1]\n",
    "w = Weights(prob)"
   ]
  },
  {
   "cell_type": "code",
   "execution_count": null,
   "id": "3b2d2a60",
   "metadata": {},
   "outputs": [],
   "source": [
    "##Główna funkcja kroku\n",
    "#jeden krok = jedna minuta\n",
    "\n",
    "function OneStep()\n",
    "    #wylosować z rozkładu samochdów na minutę ile samochdów przyjedzie w tym kroku\n",
    "    cars_num = sample(cars, w)\n",
    "    #wylosować ilość osób w kazdym samochodzie, 1 samochod = jedna zmienna?\n",
    "    num_ppl = Dict(i => rand(1:cars_num) for i in 1:cars_num)\n",
    "    # wylosować zamówienia dla kazdego samochodu, zapisujemy je jako data DataFrame\n",
    "    #gdzie kolumny to produkty zamowione a rzedy to nr samochodu\n",
    "    orders = DataFrame(BigMac = zeros(cars_num), Drwal = zeros(cars_num),\n",
    "    McNuggets = zeros(cars_num), McChicken = zeros(cars_num), Wege = zeros(cars_num))\n",
    "    \n",
    "    #losujemy zamowienia dla kazdego samochodu\n",
    "    for i in 1:nrow(orders)\n",
    "        for j in 1:length(num_ppl)\n",
    "            prod = rand(1:ncol(orders))\n",
    "            orders[i, prod] += 1\n",
    "        end\n",
    "    end\n",
    "\n",
    "    \n"
   ]
  }
 ],
 "metadata": {
  "kernelspec": {
   "display_name": "Julia 1.6.4",
   "language": "julia",
   "name": "julia-1.6"
  },
  "language_info": {
   "file_extension": ".jl",
   "mimetype": "application/julia",
   "name": "julia",
   "version": "1.6.4"
  }
 },
 "nbformat": 4,
 "nbformat_minor": 5
}
